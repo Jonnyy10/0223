{
 "cells": [
  {
   "cell_type": "code",
   "execution_count": 8,
   "id": "9b1e9c30",
   "metadata": {},
   "outputs": [],
   "source": [
    "import input, calc, output"
   ]
  },
  {
   "cell_type": "code",
   "execution_count": 3,
   "id": "1e026c90",
   "metadata": {},
   "outputs": [
    {
     "name": "stdout",
     "output_type": "stream",
     "text": [
      "Name : 김\n",
      "Kor : 80\n",
      "Eng : 90\n",
      "Math : 77\n",
      "이름 =  김  국어 =  80  영어 =  90  수학 =  77  총점 =  247  평균 =  82.33333333333333  평점 =  B\n"
     ]
    }
   ],
   "source": [
    "student = {}\n",
    "input.input_student(student)\n",
    "calc.calc_student(student)\n",
    "output.output_student(student)"
   ]
  },
  {
   "cell_type": "code",
   "execution_count": 10,
   "id": "2069a7e4",
   "metadata": {},
   "outputs": [],
   "source": [
    "import json"
   ]
  },
  {
   "cell_type": "code",
   "execution_count": 6,
   "id": "8160f02c",
   "metadata": {},
   "outputs": [
    {
     "name": "stdout",
     "output_type": "stream",
     "text": [
      "<class 'str'>\n",
      "[\"foo\", {\"bar\": [\"baz\", null, 1.0, 2]}]\n",
      "<class 'list'>\n",
      "['foo', {'bar': ['baz', None, 1.0, 2]}]\n"
     ]
    }
   ],
   "source": [
    "list_ = ['foo', {'bar': ('baz', None, 1.0, 2)}]\n",
    "a = json.dumps(list_)\n",
    "print(type(a))\n",
    "print(a)\n",
    "\n",
    "b = json.loads(a)\n",
    "print(type(b))\n",
    "print(b)\n"
   ]
  },
  {
   "cell_type": "code",
   "execution_count": 13,
   "id": "65f20050",
   "metadata": {},
   "outputs": [
    {
     "name": "stdout",
     "output_type": "stream",
     "text": [
      "{\"name\": \"Michael Jackson\", \"age\": 50, \"height\": 184.2}\n",
      "{'name': 'Michael Jackson', 'age': 50, 'height': 184.2}\n",
      "{'name': 'Michael Jackson', 'age': 50, 'height': 184.2}\n"
     ]
    }
   ],
   "source": [
    "data = {\n",
    "    'name' : 'Michael Jackson',\n",
    "    'age' : 50,\n",
    "    'height' : 184.2\n",
    "}\n",
    "json_str = json.dumps(data)\n",
    "print(json_str)\n",
    "data = json.loads(json_str)\n",
    "print(data)\n",
    "\n",
    "with open('data.json', 'w') as f:\n",
    "    json.dump(data, f)\n",
    "with open('data.json', 'r') as f:\n",
    "    data = json.load(f)\n",
    "print(data)"
   ]
  },
  {
   "cell_type": "code",
   "execution_count": 14,
   "id": "0b971ef9",
   "metadata": {},
   "outputs": [
    {
     "name": "stdout",
     "output_type": "stream",
     "text": [
      "<class 'list'>\n",
      "[{'name': 'Michael Jackson', 'age': 50, 'hobbies': ['Hearing Music', 'Reading']}]\n"
     ]
    }
   ],
   "source": [
    "f = open(\"jsonoutput.json\",'w+')\n",
    "f.write('[{\"name\": \"Michael Jackson\", \"age\": 50, \"hobbies\": [\"Hearing Music\", \"Reading\"]}]')\n",
    "f.flush()\n",
    "f.seek(0)\n",
    "\n",
    "a = json.load(f)\n",
    "print(type(a))\n",
    "print(a)\n",
    "f.close()"
   ]
  },
  {
   "cell_type": "code",
   "execution_count": 15,
   "id": "22b99fff",
   "metadata": {},
   "outputs": [
    {
     "name": "stdout",
     "output_type": "stream",
     "text": [
      "{\n",
      "    \"title\": \" \",\n",
      "    \"tags\": [\n",
      "        \" \",\n",
      "        \"Kindle\",\n",
      "        \"Light\"\n",
      "    ],\n",
      "    \"published\": true,\n",
      "    \"comment_link\": null,\n",
      "    \"id\": 1024\n",
      "}\n",
      "{'comment_link': None,\n",
      " 'id': 1024,\n",
      " 'published': True,\n",
      " 'tags': [' ', 'Kindle', 'Light'],\n",
      " 'title': ' '}\n"
     ]
    }
   ],
   "source": [
    "import pprint\n",
    "import json\n",
    "\n",
    "book = {}\n",
    "book['title'] = ' ' \n",
    "book['tags'] = (' ', 'Kindle', 'Light') \n",
    "book['published'] = True\n",
    "book['comment_link'] = None\n",
    "book['id'] = 1024\n",
    "with open('ebook.json', 'w') as f:\n",
    "    json.dump(book, f)\n",
    "with open('ebook.json', 'r') as f:\n",
    "    book = json.load(f)\n",
    "\n",
    "print(json.dumps(book,indent=4))\n",
    "pprint.pprint(book)"
   ]
  },
  {
   "cell_type": "code",
   "execution_count": 16,
   "id": "f3b6d63c",
   "metadata": {},
   "outputs": [
    {
     "name": "stdout",
     "output_type": "stream",
     "text": [
      "{'hakbun': '1101', 'irum': '한송이', 'kor': 78, 'eng': 87, 'mat': 83, 'edp': 78}\n",
      "{'hakbun': '1102', 'irum': '정다워', 'kor': 88, 'eng': 83, 'mat': 57, 'edp': 98}\n",
      "{'hakbun': '1103', 'irum': '그리운', 'kor': 76, 'eng': 56, 'mat': 87, 'edp': 78}\n",
      "{'hakbun': '1104', 'irum': '고아라', 'kor': 83, 'eng': 57, 'mat': 88, 'edp': 73}\n",
      "{'hakbun': '1105', 'irum': '사랑해', 'kor': 87, 'eng': 87, 'mat': 53, 'edp': 55}\n",
      "{'hakbun': '1106', 'irum': '튼튼이', 'kor': 98, 'eng': 97, 'mat': 93, 'edp': 88}\n",
      "{'hakbun': '1107', 'irum': '한아름', 'kor': 68, 'eng': 67, 'mat': 83, 'edp': 89}\n",
      "{'hakbun': '1108', 'irum': '더크게', 'kor': 98, 'eng': 67, 'mat': 93, 'edp': 78}\n",
      "{'hakbun': '1109', 'irum': '더높이', 'kor': 88, 'eng': 99, 'mat': 53, 'edp': 88}\n",
      "{'hakbun': '1110', 'irum': '아리랑', 'kor': 68, 'eng': 79, 'mat': 63, 'edp': 66}\n",
      "{'hakbun': '1111', 'irum': '한산섬', 'kor': 98, 'eng': 89, 'mat': 73, 'edp': 78}\n",
      "{'hakbun': '1112', 'irum': '하나로', 'kor': 89, 'eng': 97, 'mat': 78, 'edp': 88}\n"
     ]
    }
   ],
   "source": [
    "json_data = open('sungjuk.json').read()\n",
    "data = json.loads(json_data)\n",
    "\n",
    "for item in data:\n",
    "    print(item)"
   ]
  }
 ],
 "metadata": {
  "kernelspec": {
   "display_name": "Python 3 (ipykernel)",
   "language": "python",
   "name": "python3"
  },
  "language_info": {
   "codemirror_mode": {
    "name": "ipython",
    "version": 3
   },
   "file_extension": ".py",
   "mimetype": "text/x-python",
   "name": "python",
   "nbconvert_exporter": "python",
   "pygments_lexer": "ipython3",
   "version": "3.10.6"
  }
 },
 "nbformat": 4,
 "nbformat_minor": 5
}
