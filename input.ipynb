{
 "cells": [
  {
   "cell_type": "code",
   "execution_count": 3,
   "id": "d703f46c",
   "metadata": {},
   "outputs": [
    {
     "name": "stdout",
     "output_type": "stream",
     "text": [
      "Name : 1\n",
      "Kor : 2\n",
      "Eng : 3\n",
      "Math : 4\n",
      "{'name': '1', 'kor': '2', 'eng': '3', 'math': '4'}\n"
     ]
    }
   ],
   "source": [
    "def input_student(student):\n",
    "    student['name'] = input(\"Name : \")\n",
    "    student['kor'] = int(input(\"Kor : \"))\n",
    "    student['eng'] = int(input(\"Eng : \"))\n",
    "    student['math'] = int(input(\"Math : \"))"
   ]
  }
 ],
 "metadata": {
  "kernelspec": {
   "display_name": "Python 3 (ipykernel)",
   "language": "python",
   "name": "python3"
  },
  "language_info": {
   "codemirror_mode": {
    "name": "ipython",
    "version": 3
   },
   "file_extension": ".py",
   "mimetype": "text/x-python",
   "name": "python",
   "nbconvert_exporter": "python",
   "pygments_lexer": "ipython3",
   "version": "3.10.6"
  }
 },
 "nbformat": 4,
 "nbformat_minor": 5
}
